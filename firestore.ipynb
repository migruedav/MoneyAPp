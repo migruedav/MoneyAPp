{
 "cells": [
  {
   "cell_type": "code",
   "execution_count": 58,
   "metadata": {},
   "outputs": [],
   "source": [
    "import firebase_admin\n",
    "from firebase_admin import firestore\n",
    "from firebase_admin import credentials"
   ]
  },
  {
   "cell_type": "code",
   "execution_count": 59,
   "metadata": {},
   "outputs": [],
   "source": [
    "cred = credentials.Certificate(\"/Users/mac/Code/MoneyApp/moneyapp-f3a82-firebase-adminsdk-cuo23-94ccf78707.json\")\n",
    "try:\n",
    "    firebase_admin.initialize_app(cred)\n",
    "except:\n",
    "    pass\n",
    "db = firestore.client()"
   ]
  },
  {
   "cell_type": "code",
   "execution_count": 60,
   "metadata": {},
   "outputs": [],
   "source": [
    "movimientos = []\n",
    "docs = db.collection(u'movimientos').stream()\n",
    "\n",
    "for i in docs:\n",
    "    movimiento = {'doc_id':''}\n",
    "    movimiento['doc_id']=i.id\n",
    "    for k,v in i.to_dict().items():\n",
    "        movimiento[k]=v\n",
    "    movimientos.append(movimiento)"
   ]
  },
  {
   "cell_type": "code",
   "execution_count": 61,
   "metadata": {},
   "outputs": [
    {
     "data": {
      "text/plain": [
       "{'doc_id': '0tTviAgoIbP9fUaEUdLO',\n",
       " 'cuenta': 'Banamex',\n",
       " 'mesdemensualidad': 'Febrero 2023',\n",
       " 'alumno': 'Emilio Saldaña Markus',\n",
       " 'id': 10,\n",
       " 'categoria': 'Karate',\n",
       " 'subcategoria': 'Mensualidad',\n",
       " 'tipo': 'Ingreso',\n",
       " 'monto': 2300,\n",
       " 'fecha': DatetimeWithNanoseconds(2023, 2, 3, 22, 2, 42, 98000, tzinfo=datetime.timezone.utc)}"
      ]
     },
     "execution_count": 61,
     "metadata": {},
     "output_type": "execute_result"
    }
   ],
   "source": [
    "movimientos[0]"
   ]
  },
  {
   "attachments": {},
   "cell_type": "markdown",
   "metadata": {},
   "source": [
    "HOME"
   ]
  },
  {
   "cell_type": "code",
   "execution_count": 63,
   "metadata": {},
   "outputs": [
    {
     "data": {
      "text/plain": [
       "update_time {\n",
       "  seconds: 1675473333\n",
       "  nanos: 491286000\n",
       "}"
      ]
     },
     "execution_count": 63,
     "metadata": {},
     "output_type": "execute_result"
    }
   ],
   "source": [
    "cuentas = {'BanortePlatinum':'Banorte Platinum','BanorteClasica':'Banorte Clásica','Efectivo':'Efectivo','Banamex':'Banamex','BanamexRewards':'Banamex Rewards','Nu':'Nu','BBVA':'BBVA'}\n",
    "\n",
    "TotalPorCuenta ={}\n",
    "for k,v in cuentas.items():\n",
    "    total = (sum([i['monto'] for i in movimientos if ('cuenta' in i)and(i['tipo']=='Ingreso')and(i['cuenta']==v)]))-(sum([i['monto'] for i in movimientos if ('cuenta' in i)and(i['tipo']=='Egreso')and(i['cuenta']==v)]))+(sum([i['monto'] for i in movimientos if ('transcuentaingreso' in i)and(i['transcuentaingreso']==v)]))-(sum([i['monto'] for i in movimientos if ('transcuentaegreso' in i)and(i['transcuentaegreso']==v)]))\n",
    "    TotalPorCuenta[k]=total\n",
    "\n",
    "TotalIngresos=sum([i['monto'] for i in movimientos if i['tipo']=='Ingreso'])\n",
    "TotalEgresos=sum([i['monto'] for i in movimientos if i['tipo']=='Egreso'])\n",
    "GranTotal = TotalIngresos-TotalEgresos    \n",
    "\n",
    "db.collection('home').document('d7x71RhHQede3VxMuMgN').set(TotalPorCuenta)\n",
    "db.collection('home').document('d7x71RhHQede3VxMuMgN').set({'TotalIngresos':TotalIngresos,'TotalEgresos':TotalEgresos,'GranTotal':GranTotal}, merge=True)\n"
   ]
  },
  {
   "cell_type": "code",
   "execution_count": 64,
   "metadata": {},
   "outputs": [
    {
     "data": {
      "text/plain": [
       "{'BanortePlatinum': -2700,\n",
       " 'BanorteClasica': 0,\n",
       " 'Efectivo': -1114,\n",
       " 'Banamex': 1300,\n",
       " 'BanamexRewards': 0,\n",
       " 'Nu': 0,\n",
       " 'BBVA': 0}"
      ]
     },
     "execution_count": 64,
     "metadata": {},
     "output_type": "execute_result"
    }
   ],
   "source": [
    "TotalPorCuenta"
   ]
  },
  {
   "cell_type": "code",
   "execution_count": null,
   "metadata": {},
   "outputs": [],
   "source": []
  }
 ],
 "metadata": {
  "kernelspec": {
   "display_name": "venv",
   "language": "python",
   "name": "python3"
  },
  "language_info": {
   "codemirror_mode": {
    "name": "ipython",
    "version": 3
   },
   "file_extension": ".py",
   "mimetype": "text/x-python",
   "name": "python",
   "nbconvert_exporter": "python",
   "pygments_lexer": "ipython3",
   "version": "3.11.1"
  },
  "orig_nbformat": 4,
  "vscode": {
   "interpreter": {
    "hash": "ed2b9f5f9e363fbdd0a9d144389f4dc2a1a130bebb920aab37b173e3b1d3a350"
   }
  }
 },
 "nbformat": 4,
 "nbformat_minor": 2
}
